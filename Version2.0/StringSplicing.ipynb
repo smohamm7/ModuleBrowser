{
 "cells": [
  {
   "cell_type": "code",
   "execution_count": 6,
   "metadata": {},
   "outputs": [],
   "source": [
    "path = \"FileFinder('C:\\\\Users\\\\sa.mohammad.CORP\\\\source\\\\repos\\\\NavigateLibraries\\\\Version2.0')\"\n",
    "\n",
    "actualPath = path[12:-2]"
   ]
  },
  {
   "cell_type": "code",
   "execution_count": 7,
   "metadata": {},
   "outputs": [
    {
     "name": "stdout",
     "output_type": "stream",
     "text": [
      "C:\\Users\\sa.mohammad.CORP\\source\\repos\\NavigateLibraries\\Version2.0\n"
     ]
    }
   ],
   "source": [
    "print (actualPath)"
   ]
  },
  {
   "cell_type": "code",
   "execution_count": 10,
   "metadata": {},
   "outputs": [
    {
     "name": "stdout",
     "output_type": "stream",
     "text": [
      "[]\n"
     ]
    }
   ],
   "source": [
    "import pkgutil as pkg   \n",
    "libPath = 'C:\\\\Program Files (x86)\\\\Python3.9.10\\\\lib'\n",
    "\n",
    "available_modules = sorted(tuple(module_item.name for module_item in pkg.iter_modules() if module_item.module_finder.path == libPath and module_item.ispkg))\n",
    "print (available_modules)"
   ]
  }
 ],
 "metadata": {
  "kernelspec": {
   "display_name": "Python 3.9.10 64-bit",
   "language": "python",
   "name": "python3"
  },
  "language_info": {
   "codemirror_mode": {
    "name": "ipython",
    "version": 3
   },
   "file_extension": ".py",
   "mimetype": "text/x-python",
   "name": "python",
   "nbconvert_exporter": "python",
   "pygments_lexer": "ipython3",
   "version": "3.9.10"
  },
  "orig_nbformat": 4,
  "vscode": {
   "interpreter": {
    "hash": "a90e7d52c27c1683faa7309f49164d236c7d9c0bc9ef06a8bfa70bf769b1b6cc"
   }
  }
 },
 "nbformat": 4,
 "nbformat_minor": 2
}
